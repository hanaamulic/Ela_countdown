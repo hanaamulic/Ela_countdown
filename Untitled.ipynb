{
 "cells": [
  {
   "cell_type": "code",
   "execution_count": 80,
   "id": "c1dc7883-70d7-4071-9dc6-219d4f51a768",
   "metadata": {},
   "outputs": [
    {
     "data": {
      "image/png": "[encoded data removed]",
      "text/plain": [
       "<Figure size 432x720 with 1 Axes>"
      ]
     },
     "metadata": {
      "needs_background": "light"
     },
     "output_type": "display_data"
    }
   ],
   "source": [
    "import datetime as dt\n",
    "import matplotlib.pyplot as plt\n",
    "import numpy as np\n",
    "\n",
    "def main():\n",
    "    dates, data = generate_data()\n",
    "    fig, ax = plt.subplots(figsize=(6, 10))\n",
    "    calendar_heatmap(ax, dates, data)\n",
    "    plt.show()\n",
    "\n",
    "def generate_data():\n",
    "    \n",
    "    start = dt.datetime(2022, 6, 14, 8, 30, 0)\n",
    "    difference =  dt.datetime(2022, 7, 27, 8, 30, 0) - start\n",
    "    num = difference.days\n",
    "    present = dt.datetime.now()\n",
    "    done = present-start\n",
    "    togo=num-done.days\n",
    "    data = np.concatenate((np.ones(done.days),np.zeros(togo)),axis=None)\n",
    "    dates = [start + dt.timedelta(days=i) for i in range(difference.days)]\n",
    "    return dates, data\n",
    "\n",
    "def calendar_array(dates, data):\n",
    "    i, j = zip(*[d.isocalendar()[1:] for d in dates])\n",
    "    i = np.array(i) - min(i)\n",
    "    j = np.array(j) - 1\n",
    "    ni = max(i) + 1\n",
    "\n",
    "    calendar = np.nan * np.zeros((ni, 7))\n",
    "    calendar[i, j] = data\n",
    "    return i, j, calendar\n",
    "\n",
    "\n",
    "def calendar_heatmap(ax, dates, data):\n",
    "    i, j, calendar = calendar_array(dates, data)\n",
    "    im = ax.imshow(calendar, interpolation='none', cmap='RdYlGn')\n",
    "    label_days(ax, dates, i, j, calendar)\n",
    "    label_months(ax, dates, i, j, calendar)\n",
    "\n",
    "def label_days(ax, dates, i, j, calendar):\n",
    "    ni, nj = calendar.shape\n",
    "    day_of_month = np.nan * np.zeros((ni, 7))\n",
    "    day_of_month[i, j] = [d.day for d in dates]\n",
    "\n",
    "    for (i, j), day in np.ndenumerate(day_of_month):\n",
    "        if np.isfinite(day):\n",
    "            ax.text(j, i, int(day), ha='center', va='center')\n",
    "\n",
    "    ax.set(xticks=np.arange(7), \n",
    "           xticklabels=['Pon', 'Uto', 'Sri', 'Cet', 'Pet', 'Sub', 'Ned'])\n",
    "    ax.xaxis.tick_top()\n",
    "\n",
    "def label_months(ax, dates, i, j, calendar):\n",
    "    month_labels = np.array(['Jan', 'Feb', 'Mar', 'Apr', 'May', 'Lipanj', 'Srpanj',\n",
    "                             'Aug', 'Sep', 'Oct', 'Nov', 'Dec'])\n",
    "    months = np.array([d.month for d in dates])\n",
    "    uniq_months = sorted(set(months))\n",
    "    yticks = [i[months == m].mean() for m in uniq_months]\n",
    "    labels = [month_labels[m - 1] for m in uniq_months]\n",
    "    ax.set(yticks=yticks)\n",
    "    ax.set_yticklabels(labels, rotation=90)\n",
    "\n",
    "main()"
   ]
  },
  {
   "cell_type": "code",
   "execution_count": 65,
   "id": "0a1f19b8-22dd-40b1-aaaa-4e96d9553663",
   "metadata": {},
   "outputs": [],
   "source": [
    "start = dt.datetime(2022, 6, 14, 8, 30, 0)\n",
    "difference =  dt.datetime(2022, 7, 27, 8, 30, 0) - start\n",
    "num = difference.days\n",
    "present = dt.datetime(2022, 7, 20, 8, 30, 0)\n",
    "done = present-start\n",
    "togo=num-done.days\n",
    "data = np.concatenate((np.zeros(done.days),np.ones(togo)),axis=None)"
   ]
  },
  {
   "cell_type": "code",
   "execution_count": 66,
   "id": "e4946e02-c813-424e-9ba0-22994dc00f4e",
   "metadata": {},
   "outputs": [
    {
     "name": "stdout",
     "output_type": "stream",
     "text": [
      "2022-06-14 08:30:00\n",
      "43\n",
      "43\n",
      "2022-07-20 08:30:00\n",
      "7\n",
      "36\n"
     ]
    }
   ],
   "source": [
    "print(start)\n",
    "print(difference.days)\n",
    "print(num)\n",
    "print(present)\n",
    "print(togo)\n",
    "print(done.days)"
   ]
  },
  {
   "cell_type": "code",
   "execution_count": 67,
   "id": "d2271bc4-f86f-42a8-9848-24bbdf347fb2",
   "metadata": {},
   "outputs": [
    {
     "data": {
      "text/plain": [
       "(43,)"
      ]
     },
     "execution_count": 67,
     "metadata": {},
     "output_type": "execute_result"
    }
   ],
   "source": [
    "data.shape"
   ]
  }
 ],
 "metadata": {
  "kernelspec": {
   "display_name": "Python 3 (ipykernel)",
   "language": "python",
   "name": "python3"
  },
  "language_info": {
   "codemirror_mode": {
    "name": "ipython",
    "version": 3
   },
   "file_extension": ".py",
   "mimetype": "text/x-python",
   "name": "python",
   "nbconvert_exporter": "python",
   "pygments_lexer": "ipython3",
   "version": "3.9.7"
  }
 },
 "nbformat": 4,
 "nbformat_minor": 5
}
